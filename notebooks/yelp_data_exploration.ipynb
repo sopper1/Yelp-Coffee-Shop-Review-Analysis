{
 "cells": [
  {
   "cell_type": "markdown",
   "metadata": {},
   "source": [
    "# Yelp Data Exploration using Pandas\n",
    "\n",
    "After writing the data to a csv file in yelp_data_extraction.ipynb, we may now read the data from that csv file in this notebook and explore the data. I use matplotlib and pandas libraries to visualize data.\n",
    "\n",
    "## Notebook Purpose:\n",
    "\n",
    "To check for some correlation or clustering between the location and rating of a coffee shop. I also check for correlations between pricing and rating."
   ]
  },
  {
   "cell_type": "code",
   "execution_count": 204,
   "metadata": {},
   "outputs": [],
   "source": [
    "import os\n",
    "import csv\n",
    "import matplotlib.pyplot as plt\n",
    "import pandas as pd"
   ]
  },
  {
   "cell_type": "code",
   "execution_count": 205,
   "metadata": {},
   "outputs": [
    {
     "name": "stdout",
     "output_type": "stream",
     "text": [
      "name             object\n",
      "review_count      int64\n",
      "rating          float64\n",
      "longitude       float64\n",
      "latitude        float64\n",
      "country          object\n",
      "state            object\n",
      "price            object\n",
      "dtype: object\n"
     ]
    },
    {
     "data": {
      "text/html": [
       "<div>\n",
       "<style scoped>\n",
       "    .dataframe tbody tr th:only-of-type {\n",
       "        vertical-align: middle;\n",
       "    }\n",
       "\n",
       "    .dataframe tbody tr th {\n",
       "        vertical-align: top;\n",
       "    }\n",
       "\n",
       "    .dataframe thead th {\n",
       "        text-align: right;\n",
       "    }\n",
       "</style>\n",
       "<table border=\"1\" class=\"dataframe\">\n",
       "  <thead>\n",
       "    <tr style=\"text-align: right;\">\n",
       "      <th></th>\n",
       "      <th>name</th>\n",
       "      <th>review_count</th>\n",
       "      <th>rating</th>\n",
       "      <th>longitude</th>\n",
       "      <th>latitude</th>\n",
       "      <th>country</th>\n",
       "      <th>state</th>\n",
       "      <th>price</th>\n",
       "    </tr>\n",
       "  </thead>\n",
       "  <tbody>\n",
       "    <tr>\n",
       "      <th>0</th>\n",
       "      <td>El Barrio</td>\n",
       "      <td>641</td>\n",
       "      <td>4.5</td>\n",
       "      <td>-86.803074</td>\n",
       "      <td>33.516903</td>\n",
       "      <td>US</td>\n",
       "      <td>AL</td>\n",
       "      <td>2</td>\n",
       "    </tr>\n",
       "    <tr>\n",
       "      <th>1</th>\n",
       "      <td>Saw's Soul Kitchen</td>\n",
       "      <td>800</td>\n",
       "      <td>4.5</td>\n",
       "      <td>-86.773830</td>\n",
       "      <td>33.524190</td>\n",
       "      <td>US</td>\n",
       "      <td>AL</td>\n",
       "      <td>2</td>\n",
       "    </tr>\n",
       "    <tr>\n",
       "      <th>2</th>\n",
       "      <td>Yo' Mama's</td>\n",
       "      <td>372</td>\n",
       "      <td>4.5</td>\n",
       "      <td>-86.801830</td>\n",
       "      <td>33.517660</td>\n",
       "      <td>US</td>\n",
       "      <td>AL</td>\n",
       "      <td>2</td>\n",
       "    </tr>\n",
       "    <tr>\n",
       "      <th>3</th>\n",
       "      <td>Carrigan's - Downtown</td>\n",
       "      <td>532</td>\n",
       "      <td>4.5</td>\n",
       "      <td>-86.798646</td>\n",
       "      <td>33.517124</td>\n",
       "      <td>US</td>\n",
       "      <td>AL</td>\n",
       "      <td>2</td>\n",
       "    </tr>\n",
       "    <tr>\n",
       "      <th>4</th>\n",
       "      <td>Hattie B's Hot Chicken - Bham</td>\n",
       "      <td>527</td>\n",
       "      <td>4.5</td>\n",
       "      <td>-86.788468</td>\n",
       "      <td>33.511543</td>\n",
       "      <td>US</td>\n",
       "      <td>AL</td>\n",
       "      <td>2</td>\n",
       "    </tr>\n",
       "  </tbody>\n",
       "</table>\n",
       "</div>"
      ],
      "text/plain": [
       "                            name  review_count  rating  longitude   latitude  \\\n",
       "0                      El Barrio           641     4.5 -86.803074  33.516903   \n",
       "1             Saw's Soul Kitchen           800     4.5 -86.773830  33.524190   \n",
       "2                     Yo' Mama's           372     4.5 -86.801830  33.517660   \n",
       "3          Carrigan's - Downtown           532     4.5 -86.798646  33.517124   \n",
       "4  Hattie B's Hot Chicken - Bham           527     4.5 -86.788468  33.511543   \n",
       "\n",
       "  country state price  \n",
       "0      US    AL     2  \n",
       "1      US    AL     2  \n",
       "2      US    AL     2  \n",
       "3      US    AL     2  \n",
       "4      US    AL     2  "
      ]
     },
     "execution_count": 205,
     "metadata": {},
     "output_type": "execute_result"
    }
   ],
   "source": [
    "# Read coffeeshop data from csv file\n",
    "\n",
    "with open(os.getcwd() + '/data/coffeeshops.csv', mode='r', encoding='utf-8') as infile:\n",
    "    reader = csv.DictReader(infile)\n",
    "    data = list(reader)\n",
    "\n",
    "df = pd.DataFrame(data)\n",
    "\n",
    "# Correcting data types of columns, all listed below should be numeric\n",
    "cols = ['review_count', 'rating', 'longitude', 'latitude']\n",
    "df[cols] = df[cols].apply(pd.to_numeric, errors='coerce')\n",
    "\n",
    "print(df.dtypes)\n",
    "\n",
    "df.head()"
   ]
  },
  {
   "cell_type": "markdown",
   "metadata": {},
   "source": [
    "## Further Data Wrangling and Visualization:\n",
    "\n",
    "For this notebook, we will further clean the data my removing outliers. There shouldn't be null values based on what was done in yep_data_extraction.py.\n",
    "\n",
    "### Review counts:\n",
    "\n",
    "Many coffeeshops have very few reviews. A coffeeshop with only 1 to 3 reviews will have a rating that's not very representative of the cofeeshop. It is worth noting, however, that a lot of reviews means a lot of attention, and I suspect that there is a positive correlation between number of reviews and the rating.\n",
    "\n",
    "I decided to remove coffeeshops with less than 50 reviews"
   ]
  },
  {
   "cell_type": "code",
   "execution_count": 194,
   "metadata": {},
   "outputs": [
    {
     "name": "stdout",
     "output_type": "stream",
     "text": [
      "count     2396.000000\n",
      "mean       793.937396\n",
      "std       1170.435074\n",
      "min         10.000000\n",
      "25%        165.000000\n",
      "50%        363.000000\n",
      "75%        943.500000\n",
      "max      13763.000000\n",
      "Name: review_count, dtype: float64\n"
     ]
    },
    {
     "data": {
      "image/png": "[encoded data removed]",
      "text/plain": [
       "<Figure size 432x288 with 1 Axes>"
      ]
     },
     "metadata": {
      "needs_background": "light"
     },
     "output_type": "display_data"
    }
   ],
   "source": [
    "# Plot a histogram of review counts after removing outliers\n",
    "\n",
    "df.drop(df[df['review_count'] < 50].index, inplace=True)\n",
    "\n",
    "print(df['review_count'].describe())\n",
    "df['review_count'].plot.hist(bins=50)\n",
    "plt.show()"
   ]
  },
  {
   "cell_type": "code",
   "execution_count": 196,
   "metadata": {},
   "outputs": [
    {
     "data": {
      "text/plain": [
       "<matplotlib.axes._subplots.AxesSubplot at 0x2410263d1f0>"
      ]
     },
     "execution_count": 196,
     "metadata": {},
     "output_type": "execute_result"
    },
    {
     "data": {
      "image/png": "[encoded data removed]",
      "text/plain": [
       "<Figure size 432x288 with 1 Axes>"
      ]
     },
     "metadata": {
      "needs_background": "light"
     },
     "output_type": "display_data"
    }
   ],
   "source": [
    "df.plot.scatter(x = 'review_count', y = 'rating')"
   ]
  },
  {
   "cell_type": "markdown",
   "metadata": {},
   "source": [
    "It would seem that the review count only works to reduce the variance. This means higher review counts don't necessarily mean better ratings."
   ]
  },
  {
   "cell_type": "markdown",
   "metadata": {},
   "source": [
    "### Ratings:\n",
    "\n",
    "Most coffeeshops have very high ratings, ranging from around 4.0 to 5.0. It's important to get lower ratings to emphasize the correlation, so even though there are very few low reviews, I beleve they must stay."
   ]
  },
  {
   "cell_type": "code",
   "execution_count": 170,
   "metadata": {},
   "outputs": [
    {
     "name": "stdout",
     "output_type": "stream",
     "text": [
      "count    2408.000000\n",
      "mean        4.270972\n",
      "std         0.346471\n",
      "min         2.000000\n",
      "25%         4.000000\n",
      "50%         4.500000\n",
      "75%         4.500000\n",
      "max         5.000000\n",
      "Name: rating, dtype: float64\n"
     ]
    },
    {
     "data": {
      "image/png": "[encoded data removed]",
      "text/plain": [
       "<Figure size 432x288 with 1 Axes>"
      ]
     },
     "metadata": {
      "needs_background": "light"
     },
     "output_type": "display_data"
    }
   ],
   "source": [
    "# Plot a histogram of ratings\n",
    "\n",
    "print(df['rating'].describe())\n",
    "df['rating'].plot.hist()\n",
    "plt.show()"
   ]
  },
  {
   "cell_type": "markdown",
   "metadata": {},
   "source": [
    "### Prices:\n",
    "\n",
    "Most coffeeshops in the dataset have the second lowest price rating. It's difficult to see any correlation between a given price and the mean rating for that price, especially since a good portion of this data is also not available."
   ]
  },
  {
   "cell_type": "code",
   "execution_count": 197,
   "metadata": {},
   "outputs": [
    {
     "name": "stdout",
     "output_type": "stream",
     "text": [
      "count     2278\n",
      "unique       5\n",
      "top          2\n",
      "freq      1520\n",
      "Name: price, dtype: object\n"
     ]
    },
    {
     "data": {
      "text/plain": [
       "<matplotlib.axes._subplots.AxesSubplot at 0x2410269e340>"
      ]
     },
     "execution_count": 197,
     "metadata": {},
     "output_type": "execute_result"
    },
    {
     "data": {
      "image/png": "[encoded data removed]",
      "text/plain": [
       "<Figure size 432x288 with 1 Axes>"
      ]
     },
     "metadata": {
      "needs_background": "light"
     },
     "output_type": "display_data"
    }
   ],
   "source": [
    "# Plot a histogram of prices\n",
    "\n",
    "print(df['price'].describe())\n",
    "df['price'].value_counts().sort_index().plot.bar()"
   ]
  },
  {
   "cell_type": "code",
   "execution_count": 200,
   "metadata": {},
   "outputs": [
    {
     "data": {
      "text/html": [
       "<div>\n",
       "<style scoped>\n",
       "    .dataframe tbody tr th:only-of-type {\n",
       "        vertical-align: middle;\n",
       "    }\n",
       "\n",
       "    .dataframe tbody tr th {\n",
       "        vertical-align: top;\n",
       "    }\n",
       "\n",
       "    .dataframe thead th {\n",
       "        text-align: right;\n",
       "    }\n",
       "</style>\n",
       "<table border=\"1\" class=\"dataframe\">\n",
       "  <thead>\n",
       "    <tr style=\"text-align: right;\">\n",
       "      <th></th>\n",
       "      <th>rating</th>\n",
       "    </tr>\n",
       "    <tr>\n",
       "      <th>price</th>\n",
       "      <th></th>\n",
       "    </tr>\n",
       "  </thead>\n",
       "  <tbody>\n",
       "    <tr>\n",
       "      <th>1</th>\n",
       "      <td>4.365909</td>\n",
       "    </tr>\n",
       "    <tr>\n",
       "      <th>2</th>\n",
       "      <td>4.226974</td>\n",
       "    </tr>\n",
       "    <tr>\n",
       "      <th>3</th>\n",
       "      <td>4.236585</td>\n",
       "    </tr>\n",
       "    <tr>\n",
       "      <th>4</th>\n",
       "      <td>4.400000</td>\n",
       "    </tr>\n",
       "    <tr>\n",
       "      <th>N/A</th>\n",
       "      <td>4.500000</td>\n",
       "    </tr>\n",
       "  </tbody>\n",
       "</table>\n",
       "</div>"
      ],
      "text/plain": [
       "         rating\n",
       "price          \n",
       "1      4.365909\n",
       "2      4.226974\n",
       "3      4.236585\n",
       "4      4.400000\n",
       "N/A    4.500000"
      ]
     },
     "execution_count": 200,
     "metadata": {},
     "output_type": "execute_result"
    }
   ],
   "source": [
    "# Print the mean ratings for each price bracket.\n",
    "\n",
    "price_means = df.groupby(['price']).mean()\n",
    "price_means[['rating']]"
   ]
  },
  {
   "cell_type": "markdown",
   "metadata": {},
   "source": [
    "### Location (latitude/longitute):\n",
    "\n",
    "Results here are also hard to analyze. While there are data point clusters, none stand out with particularly high ratings. A correlation between location and rating seems less likely."
   ]
  },
  {
   "cell_type": "code",
   "execution_count": 150,
   "metadata": {},
   "outputs": [
    {
     "data": {
      "image/png": "[encoded data removed]",
      "text/plain": [
       "<Figure size 1440x1440 with 2 Axes>"
      ]
     },
     "metadata": {
      "needs_background": "light"
     },
     "output_type": "display_data"
    }
   ],
   "source": [
    "ax = df.plot(kind = 'scatter', x='longitude', y='latitude', s = 25, c = 'rating', colormap='magma', figsize = (20, 20), sharex=False)\n",
    "ax.set_facecolor(\"black\")\n",
    "plt.show()"
   ]
  },
  {
   "cell_type": "markdown",
   "metadata": {},
   "source": [
    "To make absolutely sure, I checked for any significant change in mean ratings based on state."
   ]
  },
  {
   "cell_type": "code",
   "execution_count": 203,
   "metadata": {},
   "outputs": [
    {
     "name": "stdout",
     "output_type": "stream",
     "text": [
      "       review_count     rating   longitude   latitude\n",
      "count     47.000000  47.000000   47.000000  47.000000\n",
      "mean     808.800022   4.257343  -90.460084  39.402481\n",
      "std      889.476622   0.109117   14.850118   4.310205\n",
      "min      117.488889   3.886364 -122.659007  29.745867\n",
      "25%      251.750000   4.213371  -96.790937  35.966584\n",
      "50%      494.820000   4.280000  -87.914649  39.763064\n",
      "75%     1042.730000   4.330000  -78.158736  42.346299\n",
      "max     3778.640000   4.410000  -70.260300  47.203396\n"
     ]
    },
    {
     "data": {
      "text/html": [
       "<div>\n",
       "<style scoped>\n",
       "    .dataframe tbody tr th:only-of-type {\n",
       "        vertical-align: middle;\n",
       "    }\n",
       "\n",
       "    .dataframe tbody tr th {\n",
       "        vertical-align: top;\n",
       "    }\n",
       "\n",
       "    .dataframe thead th {\n",
       "        text-align: right;\n",
       "    }\n",
       "</style>\n",
       "<table border=\"1\" class=\"dataframe\">\n",
       "  <thead>\n",
       "    <tr style=\"text-align: right;\">\n",
       "      <th></th>\n",
       "      <th>rating</th>\n",
       "    </tr>\n",
       "    <tr>\n",
       "      <th>state</th>\n",
       "      <th></th>\n",
       "    </tr>\n",
       "  </thead>\n",
       "  <tbody>\n",
       "    <tr>\n",
       "      <th>WA</th>\n",
       "      <td>3.886364</td>\n",
       "    </tr>\n",
       "    <tr>\n",
       "      <th>WV</th>\n",
       "      <td>3.926471</td>\n",
       "    </tr>\n",
       "    <tr>\n",
       "      <th>DE</th>\n",
       "      <td>4.095745</td>\n",
       "    </tr>\n",
       "    <tr>\n",
       "      <th>NH</th>\n",
       "      <td>4.120000</td>\n",
       "    </tr>\n",
       "    <tr>\n",
       "      <th>CT</th>\n",
       "      <td>4.120000</td>\n",
       "    </tr>\n",
       "    <tr>\n",
       "      <th>NJ</th>\n",
       "      <td>4.130000</td>\n",
       "    </tr>\n",
       "    <tr>\n",
       "      <th>MT</th>\n",
       "      <td>4.137500</td>\n",
       "    </tr>\n",
       "    <tr>\n",
       "      <th>MA</th>\n",
       "      <td>4.160000</td>\n",
       "    </tr>\n",
       "    <tr>\n",
       "      <th>IN</th>\n",
       "      <td>4.188889</td>\n",
       "    </tr>\n",
       "    <tr>\n",
       "      <th>VT</th>\n",
       "      <td>4.190000</td>\n",
       "    </tr>\n",
       "    <tr>\n",
       "      <th>ND</th>\n",
       "      <td>4.202703</td>\n",
       "    </tr>\n",
       "    <tr>\n",
       "      <th>SD</th>\n",
       "      <td>4.210526</td>\n",
       "    </tr>\n",
       "    <tr>\n",
       "      <th>MS</th>\n",
       "      <td>4.216216</td>\n",
       "    </tr>\n",
       "    <tr>\n",
       "      <th>IL</th>\n",
       "      <td>4.220000</td>\n",
       "    </tr>\n",
       "    <tr>\n",
       "      <th>MN</th>\n",
       "      <td>4.225490</td>\n",
       "    </tr>\n",
       "    <tr>\n",
       "      <th>MI</th>\n",
       "      <td>4.230000</td>\n",
       "    </tr>\n",
       "    <tr>\n",
       "      <th>PA</th>\n",
       "      <td>4.240000</td>\n",
       "    </tr>\n",
       "    <tr>\n",
       "      <th>LA</th>\n",
       "      <td>4.240000</td>\n",
       "    </tr>\n",
       "    <tr>\n",
       "      <th>TX</th>\n",
       "      <td>4.250000</td>\n",
       "    </tr>\n",
       "    <tr>\n",
       "      <th>CA</th>\n",
       "      <td>4.255319</td>\n",
       "    </tr>\n",
       "    <tr>\n",
       "      <th>VA</th>\n",
       "      <td>4.257143</td>\n",
       "    </tr>\n",
       "    <tr>\n",
       "      <th>SC</th>\n",
       "      <td>4.280000</td>\n",
       "    </tr>\n",
       "    <tr>\n",
       "      <th>IA</th>\n",
       "      <td>4.280000</td>\n",
       "    </tr>\n",
       "    <tr>\n",
       "      <th>GA</th>\n",
       "      <td>4.280000</td>\n",
       "    </tr>\n",
       "    <tr>\n",
       "      <th>AR</th>\n",
       "      <td>4.285714</td>\n",
       "    </tr>\n",
       "    <tr>\n",
       "      <th>TN</th>\n",
       "      <td>4.290000</td>\n",
       "    </tr>\n",
       "    <tr>\n",
       "      <th>OK</th>\n",
       "      <td>4.298969</td>\n",
       "    </tr>\n",
       "    <tr>\n",
       "      <th>MD</th>\n",
       "      <td>4.300000</td>\n",
       "    </tr>\n",
       "    <tr>\n",
       "      <th>NC</th>\n",
       "      <td>4.300000</td>\n",
       "    </tr>\n",
       "    <tr>\n",
       "      <th>DC</th>\n",
       "      <td>4.300000</td>\n",
       "    </tr>\n",
       "    <tr>\n",
       "      <th>KS</th>\n",
       "      <td>4.303922</td>\n",
       "    </tr>\n",
       "    <tr>\n",
       "      <th>NY</th>\n",
       "      <td>4.310000</td>\n",
       "    </tr>\n",
       "    <tr>\n",
       "      <th>RI</th>\n",
       "      <td>4.330000</td>\n",
       "    </tr>\n",
       "    <tr>\n",
       "      <th>CO</th>\n",
       "      <td>4.330000</td>\n",
       "    </tr>\n",
       "    <tr>\n",
       "      <th>NV</th>\n",
       "      <td>4.330000</td>\n",
       "    </tr>\n",
       "    <tr>\n",
       "      <th>WI</th>\n",
       "      <td>4.330000</td>\n",
       "    </tr>\n",
       "    <tr>\n",
       "      <th>UT</th>\n",
       "      <td>4.340000</td>\n",
       "    </tr>\n",
       "    <tr>\n",
       "      <th>AZ</th>\n",
       "      <td>4.340000</td>\n",
       "    </tr>\n",
       "    <tr>\n",
       "      <th>OR</th>\n",
       "      <td>4.350000</td>\n",
       "    </tr>\n",
       "    <tr>\n",
       "      <th>MO</th>\n",
       "      <td>4.354167</td>\n",
       "    </tr>\n",
       "    <tr>\n",
       "      <th>NE</th>\n",
       "      <td>4.360000</td>\n",
       "    </tr>\n",
       "    <tr>\n",
       "      <th>ID</th>\n",
       "      <td>4.360000</td>\n",
       "    </tr>\n",
       "    <tr>\n",
       "      <th>OH</th>\n",
       "      <td>4.360000</td>\n",
       "    </tr>\n",
       "    <tr>\n",
       "      <th>ME</th>\n",
       "      <td>4.370000</td>\n",
       "    </tr>\n",
       "    <tr>\n",
       "      <th>NM</th>\n",
       "      <td>4.390000</td>\n",
       "    </tr>\n",
       "    <tr>\n",
       "      <th>KY</th>\n",
       "      <td>4.410000</td>\n",
       "    </tr>\n",
       "    <tr>\n",
       "      <th>AL</th>\n",
       "      <td>4.410000</td>\n",
       "    </tr>\n",
       "  </tbody>\n",
       "</table>\n",
       "</div>"
      ],
      "text/plain": [
       "         rating\n",
       "state          \n",
       "WA     3.886364\n",
       "WV     3.926471\n",
       "DE     4.095745\n",
       "NH     4.120000\n",
       "CT     4.120000\n",
       "NJ     4.130000\n",
       "MT     4.137500\n",
       "MA     4.160000\n",
       "IN     4.188889\n",
       "VT     4.190000\n",
       "ND     4.202703\n",
       "SD     4.210526\n",
       "MS     4.216216\n",
       "IL     4.220000\n",
       "MN     4.225490\n",
       "MI     4.230000\n",
       "PA     4.240000\n",
       "LA     4.240000\n",
       "TX     4.250000\n",
       "CA     4.255319\n",
       "VA     4.257143\n",
       "SC     4.280000\n",
       "IA     4.280000\n",
       "GA     4.280000\n",
       "AR     4.285714\n",
       "TN     4.290000\n",
       "OK     4.298969\n",
       "MD     4.300000\n",
       "NC     4.300000\n",
       "DC     4.300000\n",
       "KS     4.303922\n",
       "NY     4.310000\n",
       "RI     4.330000\n",
       "CO     4.330000\n",
       "NV     4.330000\n",
       "WI     4.330000\n",
       "UT     4.340000\n",
       "AZ     4.340000\n",
       "OR     4.350000\n",
       "MO     4.354167\n",
       "NE     4.360000\n",
       "ID     4.360000\n",
       "OH     4.360000\n",
       "ME     4.370000\n",
       "NM     4.390000\n",
       "KY     4.410000\n",
       "AL     4.410000"
      ]
     },
     "execution_count": 203,
     "metadata": {},
     "output_type": "execute_result"
    }
   ],
   "source": [
    "# Group coffeeshops by state and find the mean rating for each group.\n",
    "\n",
    "state_means = df.groupby(['state']).mean()\n",
    "print(state_means.describe())\n",
    "state_means[['rating']].sort_values('rating')"
   ]
  },
  {
   "cell_type": "markdown",
   "metadata": {},
   "source": [
    "## Conclusion and Hindsight:\n",
    "The mean rating varies very little from state to state, further suggesting that there is no correlation between location and ratings. It's possible that this was a result of the very small amount of low ratings in the dataset. In hindsight, I should have made sure that I had a more even distribution of rating data in addition to the even distribution of states. Even so, the data provided so far showed very few correlations between any features. It's possible that you can only judge a coffeeshop after you've been there yourself.\n",
    "\n",
    "Based on the last table, you could say that Kentucky and Alabama generally have the highest ratings, but not by a lot."
   ]
  }
 ],
 "metadata": {
  "kernelspec": {
   "display_name": "Python 3",
   "language": "python",
   "name": "python3"
  },
  "language_info": {
   "codemirror_mode": {
    "name": "ipython",
    "version": 3
   },
   "file_extension": ".py",
   "mimetype": "text/x-python",
   "name": "python",
   "nbconvert_exporter": "python",
   "pygments_lexer": "ipython3",
   "version": "3.8.3"
  }
 },
 "nbformat": 4,
 "nbformat_minor": 4
}
