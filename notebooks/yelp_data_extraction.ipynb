{
 "cells": [
  {
   "cell_type": "markdown",
   "metadata": {},
   "source": [
    "# Yelp Data Extraction Using Yelp Fusion\n",
    "\n",
    "Yelp has a tool for developers named Yelp Fusion that interfaces with REST. I use Yelp Fusion through Python's Requests library.\n",
    "\n",
    "tqdm is a miscellaneous tool that adds a loading bar, which is useful when processing many queries.\n",
    "\n",
    "See yelp_extract.py for Requests implementation, and us_states.py for the list of territories in the USA.\n",
    "\n",
    "## Notebook Purpose:\n",
    "\n",
    "To extract coffeeshop yelp review data from all states in the USA using Yelp Fusion"
   ]
  },
  {
   "cell_type": "code",
   "execution_count": 1,
   "metadata": {},
   "outputs": [],
   "source": [
    "import sys\n",
    "import os\n",
    "\n",
    "sys.path.append(os.getcwd() + '/notebooks/code')\n",
    "\n",
    "import yelp_extract\n",
    "import us_states\n",
    "from tqdm import tqdm\n",
    "\n",
    "import csv\n",
    "\n",
    "API_KEY = 'taRZZGoAxOYJcrM-tqvTBCHoTZHMTioGLCXRnTVWLdzAlK8tJEw82xAofzxewrrFP4ZNgAnXluaj6B2XK2ggSLu_B0Ov1EJ8Zhy3tIKnjwn_4-mlZ-qPRxyygbB-X3Yx'"
   ]
  },
  {
   "cell_type": "markdown",
   "metadata": {},
   "source": [
    "For this project, I grabbed 50 data points from each state, specifying the category 'coffeeshop'. This is due to the search limit of a single query being 50 results, and searching one state at a time should make the data points more uniform over the US."
   ]
  },
  {
   "cell_type": "code",
   "execution_count": 2,
   "metadata": {},
   "outputs": [
    {
     "name": "stderr",
     "output_type": "stream",
     "text": [
      "100%|██████████| 57/57 [00:30<00:00,  1.88it/s]\n"
     ]
    }
   ],
   "source": [
    "data = []\n",
    "\n",
    "# Search for 50 coffee shops for each state (territory technically) in the U.S.A.\n",
    "\n",
    "for location in tqdm(us_states.states.values()):\n",
    "    results = yelp_extract.category_search(API_KEY, 'coffeeshops', location)\n",
    "    try:\n",
    "        data += results['businesses'][0:50]\n",
    "    except:\n",
    "        print(\"Error\")"
   ]
  },
  {
   "cell_type": "code",
   "execution_count": 3,
   "metadata": {},
   "outputs": [
    {
     "name": "stdout",
     "output_type": "stream",
     "text": [
      "2693\n"
     ]
    },
    {
     "data": {
      "text/plain": [
       "{'id': '1c52QZlCSxaJFrg1cnkrKA',\n",
       " 'alias': 'mooses-tooth-anchorage',\n",
       " 'name': \"Moose's Tooth\",\n",
       " 'image_url': 'https://s3-media4.fl.yelpcdn.com/bphoto/aKnYwUXTcUOTCPCclkzJng/o.jpg',\n",
       " 'is_closed': False,\n",
       " 'url': 'https://www.yelp.com/biz/mooses-tooth-anchorage?adjust_creative=Uf814TLeT57jhSsmGb9P_A&utm_campaign=yelp_api_v3&utm_medium=api_v3_business_search&utm_source=Uf814TLeT57jhSsmGb9P_A',\n",
       " 'review_count': 2281,\n",
       " 'categories': [{'alias': 'pizza', 'title': 'Pizza'},\n",
       "  {'alias': 'tradamerican', 'title': 'American (Traditional)'},\n",
       "  {'alias': 'beerbar', 'title': 'Beer Bar'}],\n",
       " 'rating': 4.5,\n",
       " 'coordinates': {'latitude': 61.1905345745827, 'longitude': -149.86878140741},\n",
       " 'transactions': ['delivery'],\n",
       " 'price': '$$',\n",
       " 'location': {'address1': '3300 Old Seward Hwy',\n",
       "  'address2': '',\n",
       "  'address3': '',\n",
       "  'city': 'Anchorage',\n",
       "  'zip_code': '99503',\n",
       "  'country': 'US',\n",
       "  'state': 'AK',\n",
       "  'display_address': ['3300 Old Seward Hwy', 'Anchorage, AK 99503']},\n",
       " 'phone': '+19072582537',\n",
       " 'display_phone': '(907) 258-2537',\n",
       " 'distance': 1521.6513053531855}"
      ]
     },
     "execution_count": 3,
     "metadata": {},
     "output_type": "execute_result"
    }
   ],
   "source": [
    "# Example showing data format\n",
    "print(len(data))\n",
    "data[0]"
   ]
  },
  {
   "cell_type": "markdown",
   "metadata": {},
   "source": [
    "## Wrangling Data:\n",
    "I cleaned the data by transferring the necessary data to a new table. I ignored columns not listed below due to them being unimportant or being a multi-valued field, making writing to a csv difficult."
   ]
  },
  {
   "cell_type": "code",
   "execution_count": 4,
   "metadata": {},
   "outputs": [
    {
     "data": {
      "text/plain": [
       "2408"
      ]
     },
     "execution_count": 4,
     "metadata": {},
     "output_type": "execute_result"
    }
   ],
   "source": [
    "# Cleaning data and adding it to a new table\n",
    "\n",
    "csv_data = []\n",
    "\n",
    "for business in data:\n",
    "    \n",
    "    data_point = {}\n",
    "    \n",
    "    data_point['name'] = business['name']\n",
    "    data_point['review_count'] = business['review_count']\n",
    "    data_point['rating'] = business['rating']\n",
    "    data_point['longitude'] = business['coordinates']['longitude']\n",
    "    data_point['latitude'] = business['coordinates']['latitude']\n",
    "    data_point['country'] = business['location']['country']\n",
    "    data_point['state'] = business['location']['state']\n",
    "    \n",
    "    try:\n",
    "        data_point['price'] = len(business['price'])\n",
    "    except:\n",
    "        data_point['price'] = 'N/A'\n",
    "        \n",
    "    if data_point['country'] == 'US' and 20 <= data_point['latitude'] <= 50 and -150 <= data_point['longitude'] <= -50:\n",
    "        csv_data.append(data_point)\n",
    "        \n",
    "len(csv_data)"
   ]
  },
  {
   "cell_type": "code",
   "execution_count": 11,
   "metadata": {},
   "outputs": [],
   "source": [
    "# Writing data to a csv in the /data folder\n",
    "\n",
    "if not os.path.exists(os.getcwd() + '/data'):\n",
    "     os.mkdir(os.getcwd() + '/data')\n",
    "\n",
    "keys = csv_data[0].keys()\n",
    "with open(os.getcwd() + '/data/coffeeshops.csv', 'w', newline='', encoding = 'utf-8')  as output_file:\n",
    "    dict_writer = csv.DictWriter(output_file, keys)\n",
    "    dict_writer.writeheader()\n",
    "    dict_writer.writerows(csv_data)"
   ]
  },
  {
   "cell_type": "code",
   "execution_count": null,
   "metadata": {},
   "outputs": [],
   "source": []
  }
 ],
 "metadata": {
  "kernelspec": {
   "display_name": "Python 3",
   "language": "python",
   "name": "python3"
  },
  "language_info": {
   "codemirror_mode": {
    "name": "ipython",
    "version": 3
   },
   "file_extension": ".py",
   "mimetype": "text/x-python",
   "name": "python",
   "nbconvert_exporter": "python",
   "pygments_lexer": "ipython3",
   "version": "3.8.3"
  }
 },
 "nbformat": 4,
 "nbformat_minor": 4
}
